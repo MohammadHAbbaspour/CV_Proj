{
  "cells": [
    {
      "cell_type": "code",
      "execution_count": 1,
      "metadata": {
        "id": "gYu4FjA4kx4M"
      },
      "outputs": [],
      "source": [
        "import os\n",
        "import cv2\n",
        "import numpy as np\n",
        "import matplotlib.pyplot as plt\n"
      ]
    },
    {
      "cell_type": "code",
      "execution_count": 2,
      "metadata": {
        "id": "IpNg_xyjutxV"
      },
      "outputs": [],
      "source": [
        "class CardIdentifier:\n",
        "  def __init__(self, template1_dir, template2_dir) -> None:\n",
        "    self.width, self.height = 260, 153\n",
        "    self.template1 = cv2.imread(template1_dir)\n",
        "    self.template2 = cv2.imread(template2_dir)\n",
        "    self.threshold = 0.7\n",
        "\n",
        "  def identify(self, img):\n",
        "    img = cv2.resize(img, (self.width, self.height))\n",
        "    res1 = cv2.matchTemplate(cv2.cvtColor(img, 0), cv2.cvtColor(self.template1, 0), cv2.TM_CCOEFF_NORMED)\n",
        "    res2 = cv2.matchTemplate(cv2.cvtColor(img, 0), cv2.cvtColor(self.template2, 0), cv2.TM_CCOEFF_NORMED)\n",
        "    if (np.max(res1) + np.max(res2))/2 > self.threshold:\n",
        "      return 0\n",
        "    return 1\n"
      ]
    },
    {
      "cell_type": "code",
      "execution_count": 5,
      "metadata": {
        "colab": {
          "base_uri": "https://localhost:8080/"
        },
        "id": "axd1n2PCv28O",
        "outputId": "6ce0cc57-57e2-401c-a611-4e20e901b025"
      },
      "outputs": [
        {
          "name": "stdout",
          "output_type": "stream",
          "text": [
            "10.jpg :  Id Card\n",
            "11.jpg :  Id Card\n",
            "2.jpg :  Credit Card\n",
            "6.jpg :  Credit Card\n"
          ]
        }
      ],
      "source": [
        "base_dir = '.'\n",
        "images_dir = base_dir + '/images/'\n",
        "t1_dir = base_dir + '/templates/flag.jpg'\n",
        "t2_dir = base_dir + '/templates/star.jpg'\n",
        "\n",
        "images = []\n",
        "for (dirpath, dirname, filenames) in os.walk(images_dir):\n",
        "  if dirpath == images_dir:\n",
        "    for filename in filenames:\n",
        "      if filename.split('.')[-1] in ['jpg', 'png']:\n",
        "        path = dirpath + filename\n",
        "        img = cv2.imread(path)\n",
        "        images.append((img, filename))\n",
        "\n",
        "\n",
        "identifier = CardIdentifier(t1_dir, t2_dir)\n",
        "\n",
        "for img, name in images:\n",
        "  if identifier.identify(img) == 0:\n",
        "    print(name, ': ', 'Id Card')\n",
        "  else:\n",
        "    print(name, ': ', 'Credit Card')"
      ]
    }
  ],
  "metadata": {
    "colab": {
      "provenance": []
    },
    "kernelspec": {
      "display_name": "Python 3",
      "name": "python3"
    },
    "language_info": {
      "codemirror_mode": {
        "name": "ipython",
        "version": 3
      },
      "file_extension": ".py",
      "mimetype": "text/x-python",
      "name": "python",
      "nbconvert_exporter": "python",
      "pygments_lexer": "ipython3",
      "version": "3.10.6"
    }
  },
  "nbformat": 4,
  "nbformat_minor": 0
}
